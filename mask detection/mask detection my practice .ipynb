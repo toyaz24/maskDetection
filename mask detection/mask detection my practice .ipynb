{
 "cells": [
  {
   "cell_type": "code",
   "execution_count": 14,
   "metadata": {},
   "outputs": [
    {
     "name": "stdout",
     "output_type": "stream",
     "text": [
      "Requirement already satisfied: keras in c:\\programdata\\anaconda3\\lib\\site-packages (2.4.3)\n",
      "Requirement already satisfied: h5py in c:\\programdata\\anaconda3\\lib\\site-packages (from keras) (2.10.0)\n",
      "Requirement already satisfied: scipy>=0.14 in c:\\programdata\\anaconda3\\lib\\site-packages (from keras) (1.5.0)\n",
      "Requirement already satisfied: numpy>=1.9.1 in c:\\programdata\\anaconda3\\lib\\site-packages (from keras) (1.18.5)\n",
      "Requirement already satisfied: pyyaml in c:\\programdata\\anaconda3\\lib\\site-packages (from keras) (5.3.1)\n",
      "Requirement already satisfied: six in c:\\programdata\\anaconda3\\lib\\site-packages (from h5py->keras) (1.15.0)\n",
      "Requirement already satisfied: imutils in c:\\programdata\\anaconda3\\lib\\site-packages (0.5.4)\n"
     ]
    },
    {
     "name": "stderr",
     "output_type": "stream",
     "text": [
      "ERROR: Could not find a version that satisfies the requirement libwebp (from versions: none)\n",
      "ERROR: No matching distribution found for libwebp\n"
     ]
    }
   ],
   "source": [
    "!pip install keras\n",
    "!pip install imutils\n",
    "!pip install libwebp\n"
   ]
  },
  {
   "cell_type": "code",
   "execution_count": 15,
   "metadata": {},
   "outputs": [],
   "source": [
    "from keras.optimizers import RMSprop\n",
    "from keras.preprocessing.image import ImageDataGenerator\n",
    "import cv2\n",
    "from keras.models import Sequential\n",
    "from keras.layers import Conv2D, Input, ZeroPadding2D, BatchNormalization, Activation, MaxPooling2D, Flatten, Dense,Dropout\n",
    "from keras.models import Model, load_model\n",
    "from keras.callbacks import TensorBoard, ModelCheckpoint\n",
    "from sklearn.model_selection import train_test_split\n",
    "from sklearn.metrics import f1_score\n",
    "from sklearn.utils import shuffle\n",
    "import imutils\n",
    "import numpy as np"
   ]
  },
  {
   "cell_type": "code",
   "execution_count": 16,
   "metadata": {},
   "outputs": [],
   "source": [
    "model = Sequential([\n",
    "    Conv2D(100, (3,3), activation='relu', input_shape=(150, 150, 3)),\n",
    "    MaxPooling2D(2,2),\n",
    "    \n",
    "    Conv2D(100, (3,3), activation='relu'),\n",
    "    MaxPooling2D(2,2),\n",
    "    \n",
    "    Flatten(),\n",
    "    Dropout(0.5),\n",
    "    Dense(50, activation='relu'),\n",
    "    Dense(2, activation='softmax')\n",
    "])\n",
    "model.compile(optimizer='adam', loss='binary_crossentropy', metrics=['acc'])"
   ]
  },
  {
   "cell_type": "code",
   "execution_count": 17,
   "metadata": {},
   "outputs": [
    {
     "name": "stdout",
     "output_type": "stream",
     "text": [
      "Found 604 images belonging to 2 classes.\n",
      "Found 52 images belonging to 2 classes.\n"
     ]
    }
   ],
   "source": [
    "TRAINING_DIR = r\"C:/Users/Toyaz Pandey/Downloads/Dataset/train\"\n",
    "train_datagen = ImageDataGenerator(rescale=1.0/255,\n",
    "                                   rotation_range=40,\n",
    "                                   width_shift_range=0.2,\n",
    "                                   height_shift_range=0.2,\n",
    "                                   shear_range=0.2,\n",
    "                                   zoom_range=0.2,\n",
    "                                   horizontal_flip=True,\n",
    "                                   fill_mode='nearest')\n",
    "train_generator = train_datagen.flow_from_directory(TRAINING_DIR, \n",
    "                                                    batch_size=10, \n",
    "                                                    target_size=(150, 150))\n",
    "VALIDATION_DIR = r\"C:/Users/Toyaz Pandey/Downloads/Dataset/test\"\n",
    "validation_datagen = ImageDataGenerator(rescale=1.0/255)\n",
    "validation_generator = validation_datagen.flow_from_directory(VALIDATION_DIR, \n",
    "                                                         batch_size=10, \n",
    "                                                         target_size=(150, 150))"
   ]
  },
  {
   "cell_type": "code",
   "execution_count": 18,
   "metadata": {},
   "outputs": [],
   "source": [
    "checkpoint = ModelCheckpoint('model2-{epoch:03d}.model',monitor='val_loss',verbose=0,save_best_only=True,mode='auto')"
   ]
  },
  {
   "cell_type": "code",
   "execution_count": 19,
   "metadata": {},
   "outputs": [
    {
     "name": "stdout",
     "output_type": "stream",
     "text": [
      "Epoch 1/10\n",
      "61/61 [==============================] - ETA: 0s - loss: 0.7228 - acc: 0.6026INFO:tensorflow:Assets written to: model2-001.model\\assets\n",
      "61/61 [==============================] - 36s 597ms/step - loss: 0.7228 - acc: 0.6026 - val_loss: 0.3721 - val_acc: 0.7885\n",
      "Epoch 2/10\n",
      "61/61 [==============================] - ETA: 0s - loss: 0.4212 - acc: 0.8344INFO:tensorflow:Assets written to: model2-002.model\\assets\n",
      "61/61 [==============================] - 34s 565ms/step - loss: 0.4212 - acc: 0.8344 - val_loss: 0.2599 - val_acc: 0.9423\n",
      "Epoch 3/10\n",
      "61/61 [==============================] - ETA: 0s - loss: 0.3586 - acc: 0.8626INFO:tensorflow:Assets written to: model2-003.model\\assets\n",
      "61/61 [==============================] - 34s 554ms/step - loss: 0.3586 - acc: 0.8626 - val_loss: 0.1566 - val_acc: 0.9615\n",
      "Epoch 4/10\n",
      "61/61 [==============================] - ETA: 0s - loss: 0.3110 - acc: 0.8791INFO:tensorflow:Assets written to: model2-004.model\\assets\n",
      "61/61 [==============================] - 34s 564ms/step - loss: 0.3110 - acc: 0.8791 - val_loss: 0.1498 - val_acc: 0.9808\n",
      "Epoch 5/10\n",
      "61/61 [==============================] - ETA: 0s - loss: 0.2677 - acc: 0.8841INFO:tensorflow:Assets written to: model2-005.model\\assets\n",
      "61/61 [==============================] - 35s 566ms/step - loss: 0.2677 - acc: 0.8841 - val_loss: 0.0567 - val_acc: 0.9808\n",
      "Epoch 6/10\n",
      "61/61 [==============================] - 31s 513ms/step - loss: 0.2675 - acc: 0.8924 - val_loss: 0.1045 - val_acc: 0.9615\n",
      "Epoch 7/10\n",
      "61/61 [==============================] - 32s 526ms/step - loss: 0.2308 - acc: 0.9123 - val_loss: 0.0771 - val_acc: 0.9615\n",
      "Epoch 8/10\n",
      "61/61 [==============================] - ETA: 0s - loss: 0.2296 - acc: 0.9040INFO:tensorflow:Assets written to: model2-008.model\\assets\n",
      "61/61 [==============================] - 33s 548ms/step - loss: 0.2296 - acc: 0.9040 - val_loss: 0.0356 - val_acc: 0.9808\n",
      "Epoch 9/10\n",
      "61/61 [==============================] - 30s 489ms/step - loss: 0.1965 - acc: 0.9305 - val_loss: 0.0449 - val_acc: 0.9808\n",
      "Epoch 10/10\n",
      "61/61 [==============================] - 30s 491ms/step - loss: 0.1936 - acc: 0.9172 - val_loss: 0.0408 - val_acc: 0.9808\n"
     ]
    }
   ],
   "source": [
    "history = model.fit_generator(train_generator,\n",
    "                              epochs=10,\n",
    "                              validation_data=validation_generator,\n",
    "                              callbacks=[checkpoint])"
   ]
  },
  {
   "cell_type": "code",
   "execution_count": null,
   "metadata": {},
   "outputs": [],
   "source": [
    "thtd"
   ]
  },
  {
   "cell_type": "code",
   "execution_count": null,
   "metadata": {},
   "outputs": [],
   "source": []
  },
  {
   "cell_type": "code",
   "execution_count": null,
   "metadata": {},
   "outputs": [],
   "source": []
  }
 ],
 "metadata": {
  "kernelspec": {
   "display_name": "Python 3",
   "language": "python",
   "name": "python3"
  },
  "language_info": {
   "codemirror_mode": {
    "name": "ipython",
    "version": 3
   },
   "file_extension": ".py",
   "mimetype": "text/x-python",
   "name": "python",
   "nbconvert_exporter": "python",
   "pygments_lexer": "ipython3",
   "version": "3.8.3"
  }
 },
 "nbformat": 4,
 "nbformat_minor": 4
}
